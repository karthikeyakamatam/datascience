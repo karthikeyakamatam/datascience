{
 "cells": [
  {
   "cell_type": "code",
   "execution_count": 1,
   "id": "ec56d627",
   "metadata": {},
   "outputs": [
    {
     "name": "stdout",
     "output_type": "stream",
     "text": [
      "enter the number: 4\n",
      "it is red \n"
     ]
    }
   ],
   "source": [
    "x=int(input('enter the number: '))\n",
    "if x<26:\n",
    "    if (1<=x<=5):\n",
    "        print('it is red ')\n",
    "    elif (x%5==0):\n",
    "        print('it is red')\n",
    "    elif(x%5==1):\n",
    "        print('it is red')\n",
    "    else:\n",
    "        print('it is white')\n",
    "    "
   ]
  },
  {
   "cell_type": "code",
   "execution_count": 5,
   "id": "3abf1039",
   "metadata": {},
   "outputs": [
    {
     "name": "stdout",
     "output_type": "stream",
     "text": [
      "enter hp51\n",
      "age in days2197\n",
      "km done50000\n",
      "owner1\n"
     ]
    },
    {
     "name": "stderr",
     "output_type": "stream",
     "text": [
      "C:\\Users\\user\\anaconda3\\New folder\\Lib\\site-packages\\sklearn\\base.py:464: UserWarning: X does not have valid feature names, but LinearRegression was fitted with feature names\n",
      "  warnings.warn(\n"
     ]
    },
    {
     "data": {
      "text/plain": [
       "array([8229.49348221])"
      ]
     },
     "execution_count": 5,
     "metadata": {},
     "output_type": "execute_result"
    }
   ],
   "source": [
    "import pickle\n",
    "filename=\"LinearRegression\"\n",
    "model=pickle.load(open(filename,'rb'))\n",
    "hp=int(input('enter hp'))\n",
    "age=int(input('age in days'))\n",
    "km=int(input('km done'))\n",
    "owner=int(input('owner'))\n",
    "Real=[[hp,age,km,owner,1,0,0]]\n",
    "\n",
    "predresult=model.predict(Real)\n",
    "predresult"
   ]
  },
  {
   "cell_type": "code",
   "execution_count": 13,
   "id": "09b52968",
   "metadata": {},
   "outputs": [
    {
     "name": "stdout",
     "output_type": "stream",
     "text": [
      "enter hp51\n",
      "age in days882\n",
      "km done25000\n",
      "owner1\n"
     ]
    },
    {
     "name": "stderr",
     "output_type": "stream",
     "text": [
      "C:\\Users\\user\\anaconda3\\New folder\\Lib\\site-packages\\sklearn\\base.py:464: UserWarning: X does not have valid feature names, but LinearRegression was fitted with feature names\n",
      "  warnings.warn(\n"
     ]
    },
    {
     "data": {
      "text/plain": [
       "array([9817.5848987])"
      ]
     },
     "execution_count": 13,
     "metadata": {},
     "output_type": "execute_result"
    }
   ],
   "source": [
    "hp=int(input('enter hp'))\n",
    "age=int(input('age in days'))\n",
    "km=int(input('km done'))\n",
    "owner=int(input('owner'))\n",
    "Real=[[hp,age,km,owner,1,0,0]]\n",
    "\n",
    "predresult=model.predict(Real)\n",
    "predresult\n"
   ]
  },
  {
   "cell_type": "code",
   "execution_count": null,
   "id": "621487b8",
   "metadata": {},
   "outputs": [],
   "source": []
  },
  {
   "cell_type": "code",
   "execution_count": null,
   "id": "25a49aa5",
   "metadata": {},
   "outputs": [],
   "source": []
  }
 ],
 "metadata": {
  "kernelspec": {
   "display_name": "Python 3 (ipykernel)",
   "language": "python",
   "name": "python3"
  },
  "language_info": {
   "codemirror_mode": {
    "name": "ipython",
    "version": 3
   },
   "file_extension": ".py",
   "mimetype": "text/x-python",
   "name": "python",
   "nbconvert_exporter": "python",
   "pygments_lexer": "ipython3",
   "version": "3.11.5"
  }
 },
 "nbformat": 4,
 "nbformat_minor": 5
}
