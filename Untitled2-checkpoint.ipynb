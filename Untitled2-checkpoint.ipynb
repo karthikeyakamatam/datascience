{
 "cells": [
  {
   "cell_type": "markdown",
   "id": "b46fd23e",
   "metadata": {},
   "source": [
    "# pandas support use of series and data frames\n",
    "the series is just for one dimension and data frame is for multiple dimesion\n",
    "for data frame we implment using list or "
   ]
  },
  {
   "cell_type": "code",
   "execution_count": 1,
   "id": "8a22e84b",
   "metadata": {},
   "outputs": [
    {
     "name": "stdout",
     "output_type": "stream",
     "text": [
      "[[1. 0. 0. 0.]\n",
      " [0. 1. 0. 0.]\n",
      " [0. 0. 1. 0.]\n",
      " [0. 0. 0. 1.]]\n"
     ]
    }
   ],
   "source": [
    "import numpy as np\n",
    "eye_mat=np.eye(4) # eye function is used for creating unitary matrix\n",
    "print(eye_mat)"
   ]
  },
  {
   "cell_type": "code",
   "execution_count": 2,
   "id": "f0f5f2ac",
   "metadata": {},
   "outputs": [
    {
     "name": "stdout",
     "output_type": "stream",
     "text": [
      "[[ 1  2  3  4  5]\n",
      " [ 6  7  8  9 10]\n",
      " [11 12 13 14 15]\n",
      " [16 17 18 19 20]\n",
      " [21 22 23 24 25]]\n"
     ]
    }
   ],
   "source": [
    "c=np.arange(1,26).reshape(5,5) #taking numbers from 1 to 25 using arange function and reshping it by 5x5 matrix\n",
    "print(c)"
   ]
  },
  {
   "cell_type": "code",
   "execution_count": 4,
   "id": "9a35214e",
   "metadata": {},
   "outputs": [
    {
     "name": "stdout",
     "output_type": "stream",
     "text": [
      "[2 4]\n"
     ]
    }
   ],
   "source": [
    "x=np.array([1,2,3,4,5,7])\n",
    "y=np.array([2,4,8,9])\n",
    "z=np.intersect1d(x,y)  #to take common elements from two arrays using funtion  intersect1d\n",
    "print(z)"
   ]
  },
  {
   "cell_type": "code",
   "execution_count": 6,
   "id": "ce81434d",
   "metadata": {},
   "outputs": [
    {
     "name": "stdout",
     "output_type": "stream",
     "text": [
      "x    1\n",
      "y    2\n",
      "z    3\n",
      "dtype: int64\n"
     ]
    }
   ],
   "source": [
    "import pandas as pd\n",
    "f={\"x\":1,\"y\":2,\"z\":3}  #implementing the series using the dictionary\n",
    "d=pd.Series(f)\n",
    "print(d)"
   ]
  },
  {
   "cell_type": "code",
   "execution_count": 8,
   "id": "424ac4a2",
   "metadata": {},
   "outputs": [
    {
     "data": {
      "text/plain": [
       "0    1\n",
       "1    2\n",
       "2    3\n",
       "3    4\n",
       "4    5\n",
       "Name: karthik numbers, dtype: object"
      ]
     },
     "execution_count": 8,
     "metadata": {},
     "output_type": "execute_result"
    }
   ],
   "source": [
    "x=pd.Series(list('123456789'))\n",
    "x.name='karthik numbers'  #giving name to an series using the name function it also assigns the index to the list\n",
    "x.head()"
   ]
  },
  {
   "cell_type": "code",
   "execution_count": 9,
   "id": "35ee8f67",
   "metadata": {},
   "outputs": [
    {
     "data": {
      "text/plain": [
       "0    1\n",
       "1    2\n",
       "2    3\n",
       "dtype: int64"
      ]
     },
     "execution_count": 9,
     "metadata": {},
     "output_type": "execute_result"
    }
   ],
   "source": [
    "a=pd.Series([1,2,3,5,6])\n",
    "b=pd.Series([4,5,6])\n",
    "a[~a.isin(b)]   # printing the elemnts that are in a but not in b using the statment ~list1.isin(list2)"
   ]
  },
  {
   "cell_type": "code",
   "execution_count": 10,
   "id": "430c5f54",
   "metadata": {},
   "outputs": [
    {
     "name": "stdout",
     "output_type": "stream",
     "text": [
      "    0   1   2   3   4\n",
      "0  13  17  10   1   7\n",
      "1   5   2   7  12   6\n",
      "2   1   6  11   8   6\n",
      "3  15   5   9  12  19\n",
      "4   8   9   6  10  10\n"
     ]
    }
   ],
   "source": [
    "s=pd.Series(np.random.randint(1,20,25))  # generating the random numbers from 1 - 19 of 25 numbers and making it series\n",
    "x=pd.DataFrame(s.values.reshape(5,5))   # reshaping the list into 5x5 and making it as dataframe\n",
    "print(x)"
   ]
  },
  {
   "cell_type": "code",
   "execution_count": null,
   "id": "8178ebc6",
   "metadata": {},
   "outputs": [],
   "source": [
    "x=int(input())\n",
    "i=0\n",
    "while i<x:\n",
    "    for j in range(,100):\n",
    "        f=0\n",
    "        for k in range(2,j):\n",
    "            if(j%k==0):\n",
    "                f=f+1\n",
    "        if(f==0 and j>100):\n",
    "            print(j)\n",
    "            i=i+1\n",
    "                "
   ]
  },
  {
   "cell_type": "code",
   "execution_count": null,
   "id": "e3617a36",
   "metadata": {},
   "outputs": [],
   "source": []
  },
  {
   "cell_type": "code",
   "execution_count": null,
   "id": "eb8a53e5",
   "metadata": {},
   "outputs": [],
   "source": []
  }
 ],
 "metadata": {
  "kernelspec": {
   "display_name": "Python 3 (ipykernel)",
   "language": "python",
   "name": "python3"
  },
  "language_info": {
   "codemirror_mode": {
    "name": "ipython",
    "version": 3
   },
   "file_extension": ".py",
   "mimetype": "text/x-python",
   "name": "python",
   "nbconvert_exporter": "python",
   "pygments_lexer": "ipython3",
   "version": "3.11.5"
  }
 },
 "nbformat": 4,
 "nbformat_minor": 5
}
